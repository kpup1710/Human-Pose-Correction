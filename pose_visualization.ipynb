{
 "cells": [
  {
   "cell_type": "code",
   "execution_count": 1,
   "metadata": {},
   "outputs": [
    {
     "data": {
      "image/png": "[encoded data removed]",
      "text/plain": [
       "<Figure size 576x576 with 1 Axes>"
      ]
     },
     "metadata": {
      "needs_background": "light"
     },
     "output_type": "display_data"
    }
   ],
   "source": [
    "import numpy as np\n",
    "import matplotlib.pyplot as plt\n",
    "\n",
    "# Keypoints set 1\n",
    "keypoints_1 = np.array([\n",
    "  [0.38987788558006287, 0.09318923950195312],\n",
    "  [0.4007920026779175, 0.1710333377122879],\n",
    "  [0.4456433057785034, 0.18003179132938385],\n",
    "  [0.43465864658355713, 0.32293879985809326],\n",
    "  [0.40545913577079773, 0.4629712998867035],\n",
    "  [0.35594066977500916, 0.16203488409519196],\n",
    "  [0.2829365134239197, 0.32420623302459717],\n",
    "  [0.39874133467674255, 0.28675147891044617],\n",
    "  [0.408297061920166, 0.32334521412849426],\n",
    "  [0.5053321123123169, 0.5977970361709595],\n",
    "  [0.5382518172264099, 0.8326776027679443],\n",
    "  [0.3949339687824249, 0.3872723877429962],\n",
    "  [0.3649390935897827, 0.6170563697814941],\n",
    "  [0.3824518918991089, 0.8577886819839478],\n",
    "  [0.45954033732414246, 0.10044724494218826],\n",
    "  [0.4560677707195282, -0.05684736371040344],\n",
    "  [0.40804699063301086, 0.08554968237876892],\n",
    "  [0.37856265902519226, 0.08237215876579285]\n",
    "  ]) # Replace with the coordinates of keypoints set 1\n",
    "\n",
    "# Keypoints set 2\n",
    "keypoints_2 = np.array([\n",
    "   [0.42277307732336017, 0.10302229485475745],\n",
    "   [0.3988911074637411, 0.17969645004870471],\n",
    "   [0.4692262180724089, 0.17023224945965237],\n",
    "   [0.47636185264517783, 0.3051350618133535],\n",
    "   [0.4278851861533787, 0.4607300081665753],\n",
    "   [0.3633266894833621, 0.18879143836264772],\n",
    "   [0.3029855308115642, 0.3201582111373727],\n",
    "   [0.38979935357017104, 0.27146991482152494],\n",
    "   [0.44358360249370643, 0.3426196761961754],\n",
    "   [0.5186945842794483, 0.6745361931766742],\n",
    "   [0.530970763733766, 0.834561413495417],\n",
    "   [0.43196132345085947, 0.4051962643066617],\n",
    "   [0.3579139221501141, 0.6540735272564187],\n",
    "   [0.3874664563575157, 0.8311225216361826],\n",
    "   [0.46768137484247485, 0.10358459101142375],\n",
    "   [0.4592455112729007, -0.03216377538537968],\n",
    "   [0.42617383090872957, 0.09308822028117553],\n",
    "   [0.39076110948678944, 0.09632950887666758]\n",
    "   ])  # Replace with the coordinates of keypoints set 2\n",
    "\n",
    "# Edge index\n",
    "edge_index = np.array([\n",
    "    [1, 1, 2, 3, 5, 6, 1, 8, 9, 1, 11, 12, 1, 0, 14, 0, 15, 2, 5],\n",
    "    [2, 5, 3, 4, 6, 7, 8, 9, 10, 11, 12, 13, 0, 14, 16, 15, 17, 16, 17],\n",
    "])\n",
    "\n",
    "# Plotting the skeleton\n",
    "plt.figure(figsize=(8, 8))\n",
    "\n",
    "# Plot keypoints set 1\n",
    "plt.scatter(keypoints_1[:, 0], keypoints_1[:, 1], color='red')\n",
    "for i in range(edge_index.shape[1]):\n",
    "    x = [keypoints_1[edge_index[0, i], 0], keypoints_1[edge_index[1, i], 0]]\n",
    "    y = [keypoints_1[edge_index[0, i], 1], keypoints_1[edge_index[1, i], 1]]\n",
    "    plt.plot(x, y, color='blue')\n",
    "\n",
    "# Plot keypoints set 2\n",
    "# plt.scatter(keypoints_2[:, 0], keypoints_2[:, 1], color='green')\n",
    "# for i in range(edge_index.shape[1]):\n",
    "#     x = [keypoints_2[edge_index[0, i], 0], keypoints_2[edge_index[1, i], 0]]\n",
    "#     y = [keypoints_2[edge_index[0, i], 1], keypoints_2[edge_index[1, i], 1]]\n",
    "#     plt.plot(x, y, color='orange')\n",
    "\n",
    "plt.xlabel('X')\n",
    "plt.ylabel('Y')\n",
    "plt.title('Skeleton')\n",
    "plt.axis('equal')\n",
    "plt.gca().invert_yaxis() \n",
    "plt.show()\n"
   ]
  },
  {
   "cell_type": "code",
   "execution_count": 3,
   "metadata": {},
   "outputs": [
    {
     "data": {
      "text/plain": [
       "array([[ 0.03369499,  0.00121518],\n",
       "       [-0.01824854,  0.0177686 ],\n",
       "       [-0.03179515,  0.00268271],\n",
       "       [ 0.03135479,  0.01734599],\n",
       "       [ 0.08663342, -0.00097512],\n",
       "       [ 0.05470333,  0.02047869],\n",
       "       [ 0.10306494,  0.01512037],\n",
       "       [ 0.10411695,  0.03503413],\n",
       "       [-0.00443283,  0.04839544],\n",
       "       [ 0.05314278,  0.02761041],\n",
       "       [-0.07297749,  0.05055384],\n",
       "       [-0.00511783,  0.03774825],\n",
       "       [ 0.05247146,  0.03044494],\n",
       "       [-0.1168537 , -0.05168803],\n",
       "       [ 0.05336763,  0.00557762],\n",
       "       [ 0.06101183,  0.016959  ],\n",
       "       [ 0.04190375,  0.0118581 ],\n",
       "       [ 0.01293875, -0.00360583]])"
      ]
     },
     "execution_count": 3,
     "metadata": {},
     "output_type": "execute_result"
    }
   ],
   "source": [
    "keypoints_2 - keypoints_1"
   ]
  },
  {
   "cell_type": "code",
   "execution_count": 2,
   "metadata": {},
   "outputs": [],
   "source": [
    "import torch.nn.functional as F\n",
    "import torch\n",
    "import torch.nn as nn"
   ]
  },
  {
   "cell_type": "code",
   "execution_count": 3,
   "metadata": {},
   "outputs": [],
   "source": [
    "loss = nn.CosineSimilarity(dim=0)"
   ]
  },
  {
   "cell_type": "code",
   "execution_count": 4,
   "metadata": {},
   "outputs": [
    {
     "data": {
      "text/plain": [
       "tensor([0.9781, 0.9900])"
      ]
     },
     "execution_count": 4,
     "metadata": {},
     "output_type": "execute_result"
    }
   ],
   "source": [
    "loss(torch.Tensor(keypoints_1), torch.Tensor(keypoints_2))"
   ]
  },
  {
   "cell_type": "code",
   "execution_count": 5,
   "metadata": {},
   "outputs": [
    {
     "data": {
      "text/plain": [
       "tensor(0.0902)"
      ]
     },
     "execution_count": 5,
     "metadata": {},
     "output_type": "execute_result"
    }
   ],
   "source": [
    "l = nn.L1Loss()\n",
    "l(torch.Tensor(keypoints_1), torch.Tensor(keypoints_2))"
   ]
  },
  {
   "cell_type": "code",
   "execution_count": 6,
   "metadata": {},
   "outputs": [
    {
     "data": {
      "text/plain": [
       "0.09015552542450155"
      ]
     },
     "execution_count": 6,
     "metadata": {},
     "output_type": "execute_result"
    }
   ],
   "source": [
    "np.sum(abs(keypoints_1 - keypoints_2))/36"
   ]
  },
  {
   "cell_type": "code",
   "execution_count": 7,
   "metadata": {},
   "outputs": [
    {
     "data": {
      "text/plain": [
       "tensor([2.1813, 1.0643])"
      ]
     },
     "execution_count": 7,
     "metadata": {},
     "output_type": "execute_result"
    }
   ],
   "source": [
    "torch.norm(torch.Tensor(keypoints_1)- torch.Tensor(keypoints_2), p=1, dim=0)"
   ]
  },
  {
   "cell_type": "code",
   "execution_count": null,
   "metadata": {},
   "outputs": [],
   "source": []
  }
 ],
 "metadata": {
  "kernelspec": {
   "display_name": "Torch",
   "language": "python",
   "name": "python3"
  },
  "language_info": {
   "codemirror_mode": {
    "name": "ipython",
    "version": 3
   },
   "file_extension": ".py",
   "mimetype": "text/x-python",
   "name": "python",
   "nbconvert_exporter": "python",
   "pygments_lexer": "ipython3",
   "version": "3.9.1"
  },
  "orig_nbformat": 4
 },
 "nbformat": 4,
 "nbformat_minor": 2
}
