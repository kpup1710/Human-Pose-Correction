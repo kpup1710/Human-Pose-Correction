{
 "cells": [
  {
   "cell_type": "code",
   "execution_count": 1,
   "metadata": {},
   "outputs": [],
   "source": [
    "import numpy as np\n",
    "import pandas as pd\n",
    "import json"
   ]
  },
  {
   "cell_type": "code",
   "execution_count": 2,
   "metadata": {},
   "outputs": [],
   "source": [
    "f = open('data\\processed_data.json')"
   ]
  },
  {
   "cell_type": "code",
   "execution_count": 3,
   "metadata": {},
   "outputs": [],
   "source": [
    "data = json.load(f)"
   ]
  },
  {
   "cell_type": "code",
   "execution_count": 4,
   "metadata": {},
   "outputs": [
    {
     "data": {
      "text/plain": [
       "dict"
      ]
     },
     "execution_count": 4,
     "metadata": {},
     "output_type": "execute_result"
    }
   ],
   "source": [
    "type(data[0])"
   ]
  },
  {
   "cell_type": "code",
   "execution_count": 5,
   "metadata": {},
   "outputs": [],
   "source": [
    "dt = pd.DataFrame(data)"
   ]
  },
  {
   "cell_type": "code",
   "execution_count": 6,
   "metadata": {},
   "outputs": [
    {
     "data": {
      "text/html": [
       "<div>\n",
       "<style scoped>\n",
       "    .dataframe tbody tr th:only-of-type {\n",
       "        vertical-align: middle;\n",
       "    }\n",
       "\n",
       "    .dataframe tbody tr th {\n",
       "        vertical-align: top;\n",
       "    }\n",
       "\n",
       "    .dataframe thead th {\n",
       "        text-align: right;\n",
       "    }\n",
       "</style>\n",
       "<table border=\"1\" class=\"dataframe\">\n",
       "  <thead>\n",
       "    <tr style=\"text-align: right;\">\n",
       "      <th></th>\n",
       "      <th>img_path</th>\n",
       "      <th>pose</th>\n",
       "      <th>pose_landmarks</th>\n",
       "      <th>pose_world_landmarks</th>\n",
       "    </tr>\n",
       "  </thead>\n",
       "  <tbody>\n",
       "    <tr>\n",
       "      <th>0</th>\n",
       "      <td>/Yoga-82/data/Akarna_Dhanurasana/269.jpg</td>\n",
       "      <td>Akarna_Dhanurasana</td>\n",
       "      <td>[[0.49920928478240967, 0.47858303785324097, -0...</td>\n",
       "      <td>[[-0.31364336609840393, -0.21846699714660645, ...</td>\n",
       "    </tr>\n",
       "    <tr>\n",
       "      <th>1</th>\n",
       "      <td>/Yoga-82/data/Akarna_Dhanurasana/0_15.jpg</td>\n",
       "      <td>Akarna_Dhanurasana</td>\n",
       "      <td>[[0.4950319528579712, 0.6872570514678955, -0.4...</td>\n",
       "      <td>[[0.2932778000831604, -0.41678667068481445, -0...</td>\n",
       "    </tr>\n",
       "    <tr>\n",
       "      <th>2</th>\n",
       "      <td>/Yoga-82/data/Akarna_Dhanurasana/0_162.jpg</td>\n",
       "      <td>Akarna_Dhanurasana</td>\n",
       "      <td>[[0.4645169675350189, 0.41305744647979736, 0.0...</td>\n",
       "      <td>[[0.25856447219848633, -0.48620933294296265, -...</td>\n",
       "    </tr>\n",
       "    <tr>\n",
       "      <th>3</th>\n",
       "      <td>/Yoga-82/data/Akarna_Dhanurasana/0_305.jpg</td>\n",
       "      <td>Akarna_Dhanurasana</td>\n",
       "      <td>[[0.4642471373081207, 0.469463050365448, -0.56...</td>\n",
       "      <td>[[0.2758190631866455, -0.40056756138801575, -0...</td>\n",
       "    </tr>\n",
       "    <tr>\n",
       "      <th>4</th>\n",
       "      <td>/Yoga-82/data/Akarna_Dhanurasana/0_350.jpg</td>\n",
       "      <td>Akarna_Dhanurasana</td>\n",
       "      <td>[[0.41868430376052856, 0.4373641312122345, -0....</td>\n",
       "      <td>[[0.05710503086447716, -0.4857597053050995, -0...</td>\n",
       "    </tr>\n",
       "    <tr>\n",
       "      <th>...</th>\n",
       "      <td>...</td>\n",
       "      <td>...</td>\n",
       "      <td>...</td>\n",
       "      <td>...</td>\n",
       "    </tr>\n",
       "    <tr>\n",
       "      <th>14794</th>\n",
       "      <td>/Yoga-82/data/Yogic_sleep_pose/2_125.jpg</td>\n",
       "      <td>Yogic_sleep_pose</td>\n",
       "      <td>[[0.49138641357421875, 0.4600130617618561, -0....</td>\n",
       "      <td>[[0.01191454567015171, -0.3814908564090729, -0...</td>\n",
       "    </tr>\n",
       "    <tr>\n",
       "      <th>14795</th>\n",
       "      <td>/Yoga-82/data/Yogic_sleep_pose/2_15.jpg</td>\n",
       "      <td>Yogic_sleep_pose</td>\n",
       "      <td>[[0.6760034561157227, 0.4173819422721863, -0.0...</td>\n",
       "      <td>[[0.45753487944602966, -0.09785958379507065, -...</td>\n",
       "    </tr>\n",
       "    <tr>\n",
       "      <th>14796</th>\n",
       "      <td>/Yoga-82/data/Yogic_sleep_pose/2_16.jpg</td>\n",
       "      <td>Yogic_sleep_pose</td>\n",
       "      <td>[[0.39519959688186646, 0.3270535469055176, 0.0...</td>\n",
       "      <td>[[-0.46134185791015625, -0.26065486669540405, ...</td>\n",
       "    </tr>\n",
       "    <tr>\n",
       "      <th>14797</th>\n",
       "      <td>/Yoga-82/data/Yogic_sleep_pose/2_20.jpg</td>\n",
       "      <td>Yogic_sleep_pose</td>\n",
       "      <td>[[0.5618475675582886, 0.3719260096549988, 0.11...</td>\n",
       "      <td>[[0.3687182068824768, -0.1478518545627594, -0....</td>\n",
       "    </tr>\n",
       "    <tr>\n",
       "      <th>14798</th>\n",
       "      <td>/Yoga-82/data/Yogic_sleep_pose/2_8.jpg</td>\n",
       "      <td>Yogic_sleep_pose</td>\n",
       "      <td>[[0.45842283964157104, 0.35118091106414795, -0...</td>\n",
       "      <td>[[-0.30618181824684143, -0.18361863493919373, ...</td>\n",
       "    </tr>\n",
       "  </tbody>\n",
       "</table>\n",
       "<p>14799 rows × 4 columns</p>\n",
       "</div>"
      ],
      "text/plain": [
       "                                         img_path                pose   \n",
       "0        /Yoga-82/data/Akarna_Dhanurasana/269.jpg  Akarna_Dhanurasana  \\\n",
       "1       /Yoga-82/data/Akarna_Dhanurasana/0_15.jpg  Akarna_Dhanurasana   \n",
       "2      /Yoga-82/data/Akarna_Dhanurasana/0_162.jpg  Akarna_Dhanurasana   \n",
       "3      /Yoga-82/data/Akarna_Dhanurasana/0_305.jpg  Akarna_Dhanurasana   \n",
       "4      /Yoga-82/data/Akarna_Dhanurasana/0_350.jpg  Akarna_Dhanurasana   \n",
       "...                                           ...                 ...   \n",
       "14794    /Yoga-82/data/Yogic_sleep_pose/2_125.jpg    Yogic_sleep_pose   \n",
       "14795     /Yoga-82/data/Yogic_sleep_pose/2_15.jpg    Yogic_sleep_pose   \n",
       "14796     /Yoga-82/data/Yogic_sleep_pose/2_16.jpg    Yogic_sleep_pose   \n",
       "14797     /Yoga-82/data/Yogic_sleep_pose/2_20.jpg    Yogic_sleep_pose   \n",
       "14798      /Yoga-82/data/Yogic_sleep_pose/2_8.jpg    Yogic_sleep_pose   \n",
       "\n",
       "                                          pose_landmarks   \n",
       "0      [[0.49920928478240967, 0.47858303785324097, -0...  \\\n",
       "1      [[0.4950319528579712, 0.6872570514678955, -0.4...   \n",
       "2      [[0.4645169675350189, 0.41305744647979736, 0.0...   \n",
       "3      [[0.4642471373081207, 0.469463050365448, -0.56...   \n",
       "4      [[0.41868430376052856, 0.4373641312122345, -0....   \n",
       "...                                                  ...   \n",
       "14794  [[0.49138641357421875, 0.4600130617618561, -0....   \n",
       "14795  [[0.6760034561157227, 0.4173819422721863, -0.0...   \n",
       "14796  [[0.39519959688186646, 0.3270535469055176, 0.0...   \n",
       "14797  [[0.5618475675582886, 0.3719260096549988, 0.11...   \n",
       "14798  [[0.45842283964157104, 0.35118091106414795, -0...   \n",
       "\n",
       "                                    pose_world_landmarks  \n",
       "0      [[-0.31364336609840393, -0.21846699714660645, ...  \n",
       "1      [[0.2932778000831604, -0.41678667068481445, -0...  \n",
       "2      [[0.25856447219848633, -0.48620933294296265, -...  \n",
       "3      [[0.2758190631866455, -0.40056756138801575, -0...  \n",
       "4      [[0.05710503086447716, -0.4857597053050995, -0...  \n",
       "...                                                  ...  \n",
       "14794  [[0.01191454567015171, -0.3814908564090729, -0...  \n",
       "14795  [[0.45753487944602966, -0.09785958379507065, -...  \n",
       "14796  [[-0.46134185791015625, -0.26065486669540405, ...  \n",
       "14797  [[0.3687182068824768, -0.1478518545627594, -0....  \n",
       "14798  [[-0.30618181824684143, -0.18361863493919373, ...  \n",
       "\n",
       "[14799 rows x 4 columns]"
      ]
     },
     "execution_count": 6,
     "metadata": {},
     "output_type": "execute_result"
    }
   ],
   "source": [
    "dt"
   ]
  },
  {
   "cell_type": "code",
   "execution_count": 7,
   "metadata": {},
   "outputs": [],
   "source": [
    "dt_by_pose = dt.groupby('pose').count()"
   ]
  },
  {
   "cell_type": "code",
   "execution_count": 8,
   "metadata": {},
   "outputs": [
    {
     "data": {
      "text/html": [
       "<div>\n",
       "<style scoped>\n",
       "    .dataframe tbody tr th:only-of-type {\n",
       "        vertical-align: middle;\n",
       "    }\n",
       "\n",
       "    .dataframe tbody tr th {\n",
       "        vertical-align: top;\n",
       "    }\n",
       "\n",
       "    .dataframe thead th {\n",
       "        text-align: right;\n",
       "    }\n",
       "</style>\n",
       "<table border=\"1\" class=\"dataframe\">\n",
       "  <thead>\n",
       "    <tr style=\"text-align: right;\">\n",
       "      <th></th>\n",
       "      <th>img_path</th>\n",
       "      <th>pose_landmarks</th>\n",
       "      <th>pose_world_landmarks</th>\n",
       "    </tr>\n",
       "    <tr>\n",
       "      <th>pose</th>\n",
       "      <th></th>\n",
       "      <th></th>\n",
       "      <th></th>\n",
       "    </tr>\n",
       "  </thead>\n",
       "  <tbody>\n",
       "    <tr>\n",
       "      <th>Akarna_Dhanurasana</th>\n",
       "      <td>74</td>\n",
       "      <td>74</td>\n",
       "      <td>74</td>\n",
       "    </tr>\n",
       "    <tr>\n",
       "      <th>Bharadvaja's_Twist_pose_or_Bharadvajasana_I_</th>\n",
       "      <td>69</td>\n",
       "      <td>69</td>\n",
       "      <td>69</td>\n",
       "    </tr>\n",
       "    <tr>\n",
       "      <th>Boat_Pose_or_Paripurna_Navasana_</th>\n",
       "      <td>297</td>\n",
       "      <td>297</td>\n",
       "      <td>297</td>\n",
       "    </tr>\n",
       "    <tr>\n",
       "      <th>Bound_Angle_Pose_or_Baddha_Konasana_</th>\n",
       "      <td>202</td>\n",
       "      <td>202</td>\n",
       "      <td>202</td>\n",
       "    </tr>\n",
       "    <tr>\n",
       "      <th>Bow_Pose_or_Dhanurasana_</th>\n",
       "      <td>163</td>\n",
       "      <td>163</td>\n",
       "      <td>163</td>\n",
       "    </tr>\n",
       "    <tr>\n",
       "      <th>...</th>\n",
       "      <td>...</td>\n",
       "      <td>...</td>\n",
       "      <td>...</td>\n",
       "    </tr>\n",
       "    <tr>\n",
       "      <th>Wide_Legged_Forward_Bend_pose_or_Prasarita_Padottanasana_</th>\n",
       "      <td>185</td>\n",
       "      <td>185</td>\n",
       "      <td>185</td>\n",
       "    </tr>\n",
       "    <tr>\n",
       "      <th>Wild_Thing_pose_or_Camatkarasana_</th>\n",
       "      <td>163</td>\n",
       "      <td>163</td>\n",
       "      <td>163</td>\n",
       "    </tr>\n",
       "    <tr>\n",
       "      <th>Wind_Relieving_pose_or_Pawanmuktasana</th>\n",
       "      <td>100</td>\n",
       "      <td>100</td>\n",
       "      <td>100</td>\n",
       "    </tr>\n",
       "    <tr>\n",
       "      <th>Yogic_sleep_pose</th>\n",
       "      <td>61</td>\n",
       "      <td>61</td>\n",
       "      <td>61</td>\n",
       "    </tr>\n",
       "    <tr>\n",
       "      <th>viparita_virabhadrasana_or_reverse_warrior_pose</th>\n",
       "      <td>129</td>\n",
       "      <td>129</td>\n",
       "      <td>129</td>\n",
       "    </tr>\n",
       "  </tbody>\n",
       "</table>\n",
       "<p>82 rows × 3 columns</p>\n",
       "</div>"
      ],
      "text/plain": [
       "                                                    img_path  pose_landmarks   \n",
       "pose                                                                           \n",
       "Akarna_Dhanurasana                                        74              74  \\\n",
       "Bharadvaja's_Twist_pose_or_Bharadvajasana_I_              69              69   \n",
       "Boat_Pose_or_Paripurna_Navasana_                         297             297   \n",
       "Bound_Angle_Pose_or_Baddha_Konasana_                     202             202   \n",
       "Bow_Pose_or_Dhanurasana_                                 163             163   \n",
       "...                                                      ...             ...   \n",
       "Wide_Legged_Forward_Bend_pose_or_Prasarita_Pado...       185             185   \n",
       "Wild_Thing_pose_or_Camatkarasana_                        163             163   \n",
       "Wind_Relieving_pose_or_Pawanmuktasana                    100             100   \n",
       "Yogic_sleep_pose                                          61              61   \n",
       "viparita_virabhadrasana_or_reverse_warrior_pose          129             129   \n",
       "\n",
       "                                                    pose_world_landmarks  \n",
       "pose                                                                      \n",
       "Akarna_Dhanurasana                                                    74  \n",
       "Bharadvaja's_Twist_pose_or_Bharadvajasana_I_                          69  \n",
       "Boat_Pose_or_Paripurna_Navasana_                                     297  \n",
       "Bound_Angle_Pose_or_Baddha_Konasana_                                 202  \n",
       "Bow_Pose_or_Dhanurasana_                                             163  \n",
       "...                                                                  ...  \n",
       "Wide_Legged_Forward_Bend_pose_or_Prasarita_Pado...                   185  \n",
       "Wild_Thing_pose_or_Camatkarasana_                                    163  \n",
       "Wind_Relieving_pose_or_Pawanmuktasana                                100  \n",
       "Yogic_sleep_pose                                                      61  \n",
       "viparita_virabhadrasana_or_reverse_warrior_pose                      129  \n",
       "\n",
       "[82 rows x 3 columns]"
      ]
     },
     "execution_count": 8,
     "metadata": {},
     "output_type": "execute_result"
    }
   ],
   "source": [
    "dt_by_pose"
   ]
  },
  {
   "cell_type": "code",
   "execution_count": 9,
   "metadata": {},
   "outputs": [],
   "source": [
    "dt_by_pose.reset_index(inplace=True)"
   ]
  },
  {
   "cell_type": "code",
   "execution_count": 15,
   "metadata": {},
   "outputs": [
    {
     "data": {
      "text/plain": [
       "31"
      ]
     },
     "execution_count": 15,
     "metadata": {},
     "output_type": "execute_result"
    }
   ],
   "source": [
    "idx = dt_by_pose.index[dt_by_pose['img_path']< 150].to_list()\n",
    "len(idx)"
   ]
  },
  {
   "cell_type": "code",
   "execution_count": 16,
   "metadata": {},
   "outputs": [],
   "source": [
    "poses = dt_by_pose['pose'].to_list()"
   ]
  },
  {
   "cell_type": "code",
   "execution_count": 17,
   "metadata": {},
   "outputs": [],
   "source": [
    "remove_pose =  [poses[i] for i in idx]"
   ]
  },
  {
   "cell_type": "code",
   "execution_count": 18,
   "metadata": {},
   "outputs": [
    {
     "data": {
      "text/plain": [
       "['Akarna_Dhanurasana',\n",
       " \"Bharadvaja's_Twist_pose_or_Bharadvajasana_I_\",\n",
       " 'Cockerel_Pose',\n",
       " 'Dolphin_Plank_Pose_or_Makara_Adho_Mukha_Svanasana_',\n",
       " 'Dolphin_Pose_or_Ardha_Pincha_Mayurasana_',\n",
       " 'Extended_Puppy_Pose_or_Uttana_Shishosana_',\n",
       " 'Frog_Pose_or_Bhekasana',\n",
       " 'Gate_Pose_or_Parighasana_',\n",
       " 'Happy_Baby_Pose_or_Ananda_Balasana_',\n",
       " 'Head-to-Knee_Forward_Bend_pose_or_Janu_Sirsasana_',\n",
       " 'Heron_Pose_or_Krounchasana_',\n",
       " 'Intense_Side_Stretch_Pose_or_Parsvottanasana_',\n",
       " 'Legs-Up-the-Wall_Pose_or_Viparita_Karani_',\n",
       " 'Noose_Pose_or_Pasasana_',\n",
       " 'Peacock_Pose_or_Mayurasana_',\n",
       " 'Pigeon_Pose_or_Kapotasana_',\n",
       " 'Plank_Pose_or_Kumbhakasana_',\n",
       " 'Pose_Dedicated_to_the_Sage_Koundinya_or_Eka_Pada_Koundinyanasana_I_and_II',\n",
       " 'Reclining_Hand-to-Big-Toe_Pose_or_Supta_Padangusthasana_',\n",
       " 'Scale_Pose_or_Tolasana_',\n",
       " 'Shoulder-Pressing_Pose_or_Bhujapidasana_',\n",
       " 'Side-Reclining_Leg_Lift_pose_or_Anantasana_',\n",
       " 'Staff_Pose_or_Dandasana_',\n",
       " 'Standing_Split_pose_or_Urdhva_Prasarita_Eka_Padasana_',\n",
       " 'Tortoise_Pose',\n",
       " 'Upward_Facing_Two-Foot_Staff_Pose_or_Dwi_Pada_Viparita_Dandasana_',\n",
       " 'Warrior_III_Pose_or_Virabhadrasana_III_',\n",
       " 'Warrior_I_Pose_or_Virabhadrasana_I_',\n",
       " 'Wind_Relieving_pose_or_Pawanmuktasana',\n",
       " 'Yogic_sleep_pose',\n",
       " 'viparita_virabhadrasana_or_reverse_warrior_pose']"
      ]
     },
     "execution_count": 18,
     "metadata": {},
     "output_type": "execute_result"
    }
   ],
   "source": [
    "remove_pose"
   ]
  },
  {
   "cell_type": "code",
   "execution_count": 19,
   "metadata": {},
   "outputs": [],
   "source": [
    "for pose in remove_pose:\n",
    "    dt.drop(dt[dt['pose'] == pose].index, inplace=True)"
   ]
  },
  {
   "cell_type": "code",
   "execution_count": 21,
   "metadata": {},
   "outputs": [],
   "source": [
    "coor = np.array(dt['pose_landmarks'].to_list())"
   ]
  },
  {
   "cell_type": "code",
   "execution_count": 23,
   "metadata": {},
   "outputs": [],
   "source": [
    "vars = [0.2, 0.25, 0.3, 0.35]\n",
    "new_dt = dt.copy()\n",
    "for var in vars:\n",
    "    new_coor = coor[:,:,:2]+var*np.random.randn(2)\n",
    "    dt_cp = dt.copy()\n",
    "    dt_cp['pose_landmarks'] = new_coor.tolist()\n",
    "    new_dt = pd.concat([new_dt, dt_cp])"
   ]
  },
  {
   "cell_type": "code",
   "execution_count": 24,
   "metadata": {},
   "outputs": [
    {
     "data": {
      "text/plain": [
       "(59175, 4)"
      ]
     },
     "execution_count": 24,
     "metadata": {},
     "output_type": "execute_result"
    }
   ],
   "source": [
    "new_dt.shape"
   ]
  },
  {
   "cell_type": "code",
   "execution_count": 25,
   "metadata": {},
   "outputs": [],
   "source": [
    "processed = new_dt.to_dict('records')"
   ]
  },
  {
   "cell_type": "code",
   "execution_count": 26,
   "metadata": {},
   "outputs": [
    {
     "data": {
      "text/plain": [
       "{'img_path': '/Yoga-82/data/Boat_Pose_or_Paripurna_Navasana_/0_123.jpg',\n",
       " 'pose': 'Boat_Pose_or_Paripurna_Navasana_',\n",
       " 'pose_landmarks': [[0.42257797718048096,\n",
       "   0.39071476459503174,\n",
       "   -0.003814885625615716,\n",
       "   0.9999189376831055],\n",
       "  [0.4015408754348755,\n",
       "   0.4589015245437622,\n",
       "   0.02573131024837494,\n",
       "   0.9999167919158936],\n",
       "  [0.3775859475135803,\n",
       "   0.4679693281650543,\n",
       "   -0.11600571870803833,\n",
       "   0.9999743700027466],\n",
       "  [0.4331900477409363,\n",
       "   0.4376814663410187,\n",
       "   -0.2574327290058136,\n",
       "   0.9750763177871704],\n",
       "  [0.4890589416027069,\n",
       "   0.3694668412208557,\n",
       "   -0.36111360788345337,\n",
       "   0.9952834844589233],\n",
       "  [0.42549583315849304,\n",
       "   0.4498336911201477,\n",
       "   0.1674683392047882,\n",
       "   0.9998592138290405],\n",
       "  [0.48014795780181885,\n",
       "   0.44042330980300903,\n",
       "   0.2007778137922287,\n",
       "   0.6456689238548279],\n",
       "  [0.5332478284835815,\n",
       "   0.3656202554702759,\n",
       "   0.13880705833435059,\n",
       "   0.6854596734046936],\n",
       "  [0.45299142599105835,\n",
       "   0.6242351531982422,\n",
       "   -0.09203788638114929,\n",
       "   0.9998955726623535],\n",
       "  [0.48156145215034485,\n",
       "   0.480094850063324,\n",
       "   -0.19630789756774902,\n",
       "   0.9960044026374817],\n",
       "  [0.5411949157714844,\n",
       "   0.31878355145454407,\n",
       "   -0.28081217408180237,\n",
       "   0.9946966171264648],\n",
       "  [0.47576189041137695,\n",
       "   0.6048312187194824,\n",
       "   0.09183518588542938,\n",
       "   0.999893307685852],\n",
       "  [0.5078388452529907,\n",
       "   0.4637938141822815,\n",
       "   0.09265334159135818,\n",
       "   0.6263794898986816],\n",
       "  [0.5452880859375,\n",
       "   0.32457152009010315,\n",
       "   0.04754512384533882,\n",
       "   0.8550941944122314],\n",
       "  [0.4111935794353485,\n",
       "   0.3802838623523712,\n",
       "   -0.016481779515743256,\n",
       "   0.9999557733535767],\n",
       "  [0.4111935794353485,\n",
       "   0.3802838623523712,\n",
       "   -0.016481779515743256,\n",
       "   0.9999557733535767],\n",
       "  [0.39369112253189087,\n",
       "   0.3874337077140808,\n",
       "   -0.04349438473582268,\n",
       "   0.9998599290847778],\n",
       "  [0.4029660224914551,\n",
       "   0.3864932954311371,\n",
       "   0.0859193429350853,\n",
       "   0.9998657703399658]],\n",
       " 'pose_world_landmarks': [[-0.13418030738830566,\n",
       "   -0.5068124532699585,\n",
       "   -0.10337280482053757,\n",
       "   0.9999189376831055],\n",
       "  [-0.22084248065948486,\n",
       "   -0.4088226854801178,\n",
       "   0.030721131712198257,\n",
       "   0.9999167919158936],\n",
       "  [-0.3203936815261841,\n",
       "   -0.4023144841194153,\n",
       "   -0.08370547741651535,\n",
       "   0.9999743700027466],\n",
       "  [-0.11846724152565002,\n",
       "   -0.39446160197257996,\n",
       "   -0.2570306956768036,\n",
       "   0.9750763177871704],\n",
       "  [0.04399332404136658,\n",
       "   -0.5491306781768799,\n",
       "   -0.38553711771965027,\n",
       "   0.9952834844589233],\n",
       "  [-0.12129126489162445,\n",
       "   -0.4153308868408203,\n",
       "   0.14514774084091187,\n",
       "   0.9998592138290405],\n",
       "  [0.04119113087654114,\n",
       "   -0.477460116147995,\n",
       "   0.1764092892408371,\n",
       "   0.6456689238548279],\n",
       "  [0.24818097054958344,\n",
       "   -0.5873007774353027,\n",
       "   0.21997150778770447,\n",
       "   0.6854596734046936],\n",
       "  [-0.046185512095689774,\n",
       "   0.0211930088698864,\n",
       "   -0.10704231262207031,\n",
       "   0.9998955726623535],\n",
       "  [0.0338355153799057,\n",
       "   -0.28256863355636597,\n",
       "   -0.22169022262096405,\n",
       "   0.9960044026374817],\n",
       "  [0.20062993466854095,\n",
       "   -0.6042906641960144,\n",
       "   -0.26087963581085205,\n",
       "   0.9946966171264648],\n",
       "  [0.04655712470412254,\n",
       "   -0.026130417361855507,\n",
       "   0.10832615196704865,\n",
       "   0.999893307685852],\n",
       "  [0.1753663718700409,\n",
       "   -0.3152218759059906,\n",
       "   0.08742428570985794,\n",
       "   0.6263794898986816],\n",
       "  [0.2533789575099945,\n",
       "   -0.6868394017219543,\n",
       "   0.10871445387601852,\n",
       "   0.8550941944122314],\n",
       "  [-0.16014516353607178,\n",
       "   -0.5464706420898438,\n",
       "   -0.14856237173080444,\n",
       "   0.9999557733535767],\n",
       "  [-0.16014516353607178,\n",
       "   -0.5464706420898438,\n",
       "   -0.14856237173080444,\n",
       "   0.9999557733535767],\n",
       "  [-0.2372676134109497,\n",
       "   -0.4543757438659668,\n",
       "   -0.12154003232717514,\n",
       "   0.9998599290847778],\n",
       "  [-0.217714324593544,\n",
       "   -0.5145640969276428,\n",
       "   -0.000623985892161727,\n",
       "   0.9998657703399658]]}"
      ]
     },
     "execution_count": 26,
     "metadata": {},
     "output_type": "execute_result"
    }
   ],
   "source": [
    "processed[0]"
   ]
  },
  {
   "cell_type": "code",
   "execution_count": 171,
   "metadata": {},
   "outputs": [],
   "source": [
    "with open('processed_yoga.json', 'w') as f:\n",
    "    json.dump(processed, f)"
   ]
  },
  {
   "cell_type": "code",
   "execution_count": null,
   "metadata": {},
   "outputs": [],
   "source": []
  }
 ],
 "metadata": {
  "kernelspec": {
   "display_name": "Python 3",
   "language": "python",
   "name": "python3"
  },
  "language_info": {
   "codemirror_mode": {
    "name": "ipython",
    "version": 3
   },
   "file_extension": ".py",
   "mimetype": "text/x-python",
   "name": "python",
   "nbconvert_exporter": "python",
   "pygments_lexer": "ipython3",
   "version": "3.9.1"
  },
  "orig_nbformat": 4
 },
 "nbformat": 4,
 "nbformat_minor": 2
}
