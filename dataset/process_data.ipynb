{
 "cells": [
  {
   "cell_type": "code",
   "execution_count": 79,
   "metadata": {},
   "outputs": [],
   "source": [
    "import numpy as np\n",
    "import pandas as pd\n",
    "import json"
   ]
  },
  {
   "cell_type": "code",
   "execution_count": 80,
   "metadata": {},
   "outputs": [],
   "source": [
    "f = open('C:\\\\Users\\\\RedmiBook\\\\HUST\\\\Documents\\\\Studying\\\\Deep Learning\\\\project\\\\Human Pose Estimation\\\\code\\\\test\\Human-Pose-Correction\\dataset\\\\workout_processed_data.json')"
   ]
  },
  {
   "cell_type": "code",
   "execution_count": 81,
   "metadata": {},
   "outputs": [],
   "source": [
    "data = json.load(f)"
   ]
  },
  {
   "cell_type": "code",
   "execution_count": 82,
   "metadata": {},
   "outputs": [
    {
     "data": {
      "text/plain": [
       "dict"
      ]
     },
     "execution_count": 82,
     "metadata": {},
     "output_type": "execute_result"
    }
   ],
   "source": [
    "type(data[0])"
   ]
  },
  {
   "cell_type": "code",
   "execution_count": 83,
   "metadata": {},
   "outputs": [],
   "source": [
    "dt = pd.DataFrame(data)"
   ]
  },
  {
   "cell_type": "code",
   "execution_count": 84,
   "metadata": {},
   "outputs": [
    {
     "data": {
      "text/html": [
       "<div>\n",
       "<style scoped>\n",
       "    .dataframe tbody tr th:only-of-type {\n",
       "        vertical-align: middle;\n",
       "    }\n",
       "\n",
       "    .dataframe tbody tr th {\n",
       "        vertical-align: top;\n",
       "    }\n",
       "\n",
       "    .dataframe thead th {\n",
       "        text-align: right;\n",
       "    }\n",
       "</style>\n",
       "<table border=\"1\" class=\"dataframe\">\n",
       "  <thead>\n",
       "    <tr style=\"text-align: right;\">\n",
       "      <th></th>\n",
       "      <th>img_path</th>\n",
       "      <th>pose_landmarks</th>\n",
       "      <th>pose_world_landmarks</th>\n",
       "      <th>label</th>\n",
       "    </tr>\n",
       "  </thead>\n",
       "  <tbody>\n",
       "    <tr>\n",
       "      <th>0</th>\n",
       "      <td>workout/data/barbell biceps curl/barbell bicep...</td>\n",
       "      <td>[[0.4774287939071655, 0.24840272963047028, -0....</td>\n",
       "      <td>[[-0.06522616744041443, -0.6757313013076782, -...</td>\n",
       "      <td>barbell biceps curl</td>\n",
       "    </tr>\n",
       "    <tr>\n",
       "      <th>1</th>\n",
       "      <td>workout/data/barbell biceps curl/barbell bicep...</td>\n",
       "      <td>[[0.5295660495758057, 0.176847904920578, -0.09...</td>\n",
       "      <td>[[0.15504321455955505, -0.6487914323806763, -0...</td>\n",
       "      <td>barbell biceps curl</td>\n",
       "    </tr>\n",
       "    <tr>\n",
       "      <th>2</th>\n",
       "      <td>workout/data/barbell biceps curl/barbell bicep...</td>\n",
       "      <td>[[0.5222908854484558, 0.1324421763420105, -0.6...</td>\n",
       "      <td>[[-0.0781388133764267, -0.6445462703704834, -0...</td>\n",
       "      <td>barbell biceps curl</td>\n",
       "    </tr>\n",
       "    <tr>\n",
       "      <th>3</th>\n",
       "      <td>workout/data/barbell biceps curl/barbell bicep...</td>\n",
       "      <td>[[0.49123817682266235, 0.2328653335571289, -0....</td>\n",
       "      <td>[[-0.08622584491968155, -0.6313014030456543, -...</td>\n",
       "      <td>barbell biceps curl</td>\n",
       "    </tr>\n",
       "    <tr>\n",
       "      <th>4</th>\n",
       "      <td>workout/data/barbell biceps curl/barbell bicep...</td>\n",
       "      <td>[[0.5306190252304077, 0.13631606101989746, -0....</td>\n",
       "      <td>[[-0.08554969727993011, -0.6458590626716614, -...</td>\n",
       "      <td>barbell biceps curl</td>\n",
       "    </tr>\n",
       "    <tr>\n",
       "      <th>...</th>\n",
       "      <td>...</td>\n",
       "      <td>...</td>\n",
       "      <td>...</td>\n",
       "      <td>...</td>\n",
       "    </tr>\n",
       "    <tr>\n",
       "      <th>12813</th>\n",
       "      <td>workout/data/tricep pushdown/tricep pushdown_g...</td>\n",
       "      <td>[[0.6838958859443665, 0.18929356336593628, 0.0...</td>\n",
       "      <td>[[0.14696170389652252, -0.6180601119995117, -0...</td>\n",
       "      <td>tricep pushdown</td>\n",
       "    </tr>\n",
       "    <tr>\n",
       "      <th>12814</th>\n",
       "      <td>workout/data/tricep pushdown/tricep pushdown_g...</td>\n",
       "      <td>[[0.373374342918396, 0.2082662582397461, 0.024...</td>\n",
       "      <td>[[0.1404094696044922, -0.5569214820861816, -0....</td>\n",
       "      <td>tricep pushdown</td>\n",
       "    </tr>\n",
       "    <tr>\n",
       "      <th>12815</th>\n",
       "      <td>workout/data/tricep pushdown/tricep pushdown_g...</td>\n",
       "      <td>[[0.39626777172088623, 0.1918622851371765, 0.0...</td>\n",
       "      <td>[[0.15986354649066925, -0.5799942016601562, -0...</td>\n",
       "      <td>tricep pushdown</td>\n",
       "    </tr>\n",
       "    <tr>\n",
       "      <th>12816</th>\n",
       "      <td>workout/data/tricep pushdown/tricep pushdown_g...</td>\n",
       "      <td>[[0.6556698083877563, 0.2568169832229614, -0.2...</td>\n",
       "      <td>[[0.20356547832489014, -0.5534089207649231, -0...</td>\n",
       "      <td>tricep pushdown</td>\n",
       "    </tr>\n",
       "    <tr>\n",
       "      <th>12817</th>\n",
       "      <td>workout/data/tricep pushdown/tricep pushdown_g...</td>\n",
       "      <td>[[0.2954373359680176, 0.25799453258514404, -0....</td>\n",
       "      <td>[[0.20379549264907837, -0.5707787275314331, -0...</td>\n",
       "      <td>tricep pushdown</td>\n",
       "    </tr>\n",
       "  </tbody>\n",
       "</table>\n",
       "<p>12818 rows × 4 columns</p>\n",
       "</div>"
      ],
      "text/plain": [
       "                                                img_path   \n",
       "0      workout/data/barbell biceps curl/barbell bicep...  \\\n",
       "1      workout/data/barbell biceps curl/barbell bicep...   \n",
       "2      workout/data/barbell biceps curl/barbell bicep...   \n",
       "3      workout/data/barbell biceps curl/barbell bicep...   \n",
       "4      workout/data/barbell biceps curl/barbell bicep...   \n",
       "...                                                  ...   \n",
       "12813  workout/data/tricep pushdown/tricep pushdown_g...   \n",
       "12814  workout/data/tricep pushdown/tricep pushdown_g...   \n",
       "12815  workout/data/tricep pushdown/tricep pushdown_g...   \n",
       "12816  workout/data/tricep pushdown/tricep pushdown_g...   \n",
       "12817  workout/data/tricep pushdown/tricep pushdown_g...   \n",
       "\n",
       "                                          pose_landmarks   \n",
       "0      [[0.4774287939071655, 0.24840272963047028, -0....  \\\n",
       "1      [[0.5295660495758057, 0.176847904920578, -0.09...   \n",
       "2      [[0.5222908854484558, 0.1324421763420105, -0.6...   \n",
       "3      [[0.49123817682266235, 0.2328653335571289, -0....   \n",
       "4      [[0.5306190252304077, 0.13631606101989746, -0....   \n",
       "...                                                  ...   \n",
       "12813  [[0.6838958859443665, 0.18929356336593628, 0.0...   \n",
       "12814  [[0.373374342918396, 0.2082662582397461, 0.024...   \n",
       "12815  [[0.39626777172088623, 0.1918622851371765, 0.0...   \n",
       "12816  [[0.6556698083877563, 0.2568169832229614, -0.2...   \n",
       "12817  [[0.2954373359680176, 0.25799453258514404, -0....   \n",
       "\n",
       "                                    pose_world_landmarks                label  \n",
       "0      [[-0.06522616744041443, -0.6757313013076782, -...  barbell biceps curl  \n",
       "1      [[0.15504321455955505, -0.6487914323806763, -0...  barbell biceps curl  \n",
       "2      [[-0.0781388133764267, -0.6445462703704834, -0...  barbell biceps curl  \n",
       "3      [[-0.08622584491968155, -0.6313014030456543, -...  barbell biceps curl  \n",
       "4      [[-0.08554969727993011, -0.6458590626716614, -...  barbell biceps curl  \n",
       "...                                                  ...                  ...  \n",
       "12813  [[0.14696170389652252, -0.6180601119995117, -0...      tricep pushdown  \n",
       "12814  [[0.1404094696044922, -0.5569214820861816, -0....      tricep pushdown  \n",
       "12815  [[0.15986354649066925, -0.5799942016601562, -0...      tricep pushdown  \n",
       "12816  [[0.20356547832489014, -0.5534089207649231, -0...      tricep pushdown  \n",
       "12817  [[0.20379549264907837, -0.5707787275314331, -0...      tricep pushdown  \n",
       "\n",
       "[12818 rows x 4 columns]"
      ]
     },
     "execution_count": 84,
     "metadata": {},
     "output_type": "execute_result"
    }
   ],
   "source": [
    "dt"
   ]
  },
  {
   "cell_type": "code",
   "execution_count": 86,
   "metadata": {},
   "outputs": [],
   "source": [
    "dt_by_pose = dt.groupby('label').count()"
   ]
  },
  {
   "cell_type": "code",
   "execution_count": 87,
   "metadata": {},
   "outputs": [
    {
     "data": {
      "text/html": [
       "<div>\n",
       "<style scoped>\n",
       "    .dataframe tbody tr th:only-of-type {\n",
       "        vertical-align: middle;\n",
       "    }\n",
       "\n",
       "    .dataframe tbody tr th {\n",
       "        vertical-align: top;\n",
       "    }\n",
       "\n",
       "    .dataframe thead th {\n",
       "        text-align: right;\n",
       "    }\n",
       "</style>\n",
       "<table border=\"1\" class=\"dataframe\">\n",
       "  <thead>\n",
       "    <tr style=\"text-align: right;\">\n",
       "      <th></th>\n",
       "      <th>img_path</th>\n",
       "      <th>pose_landmarks</th>\n",
       "      <th>pose_world_landmarks</th>\n",
       "    </tr>\n",
       "    <tr>\n",
       "      <th>label</th>\n",
       "      <th></th>\n",
       "      <th></th>\n",
       "      <th></th>\n",
       "    </tr>\n",
       "  </thead>\n",
       "  <tbody>\n",
       "    <tr>\n",
       "      <th>barbell biceps curl</th>\n",
       "      <td>645</td>\n",
       "      <td>645</td>\n",
       "      <td>645</td>\n",
       "    </tr>\n",
       "    <tr>\n",
       "      <th>bench press</th>\n",
       "      <td>484</td>\n",
       "      <td>484</td>\n",
       "      <td>484</td>\n",
       "    </tr>\n",
       "    <tr>\n",
       "      <th>chest fly machine</th>\n",
       "      <td>519</td>\n",
       "      <td>519</td>\n",
       "      <td>519</td>\n",
       "    </tr>\n",
       "    <tr>\n",
       "      <th>deadlift</th>\n",
       "      <td>501</td>\n",
       "      <td>501</td>\n",
       "      <td>501</td>\n",
       "    </tr>\n",
       "    <tr>\n",
       "      <th>decline bench press</th>\n",
       "      <td>316</td>\n",
       "      <td>316</td>\n",
       "      <td>316</td>\n",
       "    </tr>\n",
       "    <tr>\n",
       "      <th>hammer curl</th>\n",
       "      <td>526</td>\n",
       "      <td>526</td>\n",
       "      <td>526</td>\n",
       "    </tr>\n",
       "    <tr>\n",
       "      <th>hip thrust</th>\n",
       "      <td>516</td>\n",
       "      <td>516</td>\n",
       "      <td>516</td>\n",
       "    </tr>\n",
       "    <tr>\n",
       "      <th>incline bench press</th>\n",
       "      <td>583</td>\n",
       "      <td>583</td>\n",
       "      <td>583</td>\n",
       "    </tr>\n",
       "    <tr>\n",
       "      <th>lat pulldown</th>\n",
       "      <td>585</td>\n",
       "      <td>585</td>\n",
       "      <td>585</td>\n",
       "    </tr>\n",
       "    <tr>\n",
       "      <th>lateral raises</th>\n",
       "      <td>840</td>\n",
       "      <td>840</td>\n",
       "      <td>840</td>\n",
       "    </tr>\n",
       "    <tr>\n",
       "      <th>leg extension</th>\n",
       "      <td>535</td>\n",
       "      <td>535</td>\n",
       "      <td>535</td>\n",
       "    </tr>\n",
       "    <tr>\n",
       "      <th>leg raises</th>\n",
       "      <td>494</td>\n",
       "      <td>494</td>\n",
       "      <td>494</td>\n",
       "    </tr>\n",
       "    <tr>\n",
       "      <th>plank</th>\n",
       "      <td>992</td>\n",
       "      <td>992</td>\n",
       "      <td>992</td>\n",
       "    </tr>\n",
       "    <tr>\n",
       "      <th>pull up</th>\n",
       "      <td>579</td>\n",
       "      <td>579</td>\n",
       "      <td>579</td>\n",
       "    </tr>\n",
       "    <tr>\n",
       "      <th>push up</th>\n",
       "      <td>562</td>\n",
       "      <td>562</td>\n",
       "      <td>562</td>\n",
       "    </tr>\n",
       "    <tr>\n",
       "      <th>romanian deadlift</th>\n",
       "      <td>474</td>\n",
       "      <td>474</td>\n",
       "      <td>474</td>\n",
       "    </tr>\n",
       "    <tr>\n",
       "      <th>russian twist</th>\n",
       "      <td>513</td>\n",
       "      <td>513</td>\n",
       "      <td>513</td>\n",
       "    </tr>\n",
       "    <tr>\n",
       "      <th>shoulder press</th>\n",
       "      <td>501</td>\n",
       "      <td>501</td>\n",
       "      <td>501</td>\n",
       "    </tr>\n",
       "    <tr>\n",
       "      <th>squat</th>\n",
       "      <td>732</td>\n",
       "      <td>732</td>\n",
       "      <td>732</td>\n",
       "    </tr>\n",
       "    <tr>\n",
       "      <th>t bar row</th>\n",
       "      <td>653</td>\n",
       "      <td>653</td>\n",
       "      <td>653</td>\n",
       "    </tr>\n",
       "    <tr>\n",
       "      <th>tricep dips</th>\n",
       "      <td>671</td>\n",
       "      <td>671</td>\n",
       "      <td>671</td>\n",
       "    </tr>\n",
       "    <tr>\n",
       "      <th>tricep pushdown</th>\n",
       "      <td>597</td>\n",
       "      <td>597</td>\n",
       "      <td>597</td>\n",
       "    </tr>\n",
       "  </tbody>\n",
       "</table>\n",
       "</div>"
      ],
      "text/plain": [
       "                     img_path  pose_landmarks  pose_world_landmarks\n",
       "label                                                              \n",
       "barbell biceps curl       645             645                   645\n",
       "bench press               484             484                   484\n",
       "chest fly machine         519             519                   519\n",
       "deadlift                  501             501                   501\n",
       "decline bench press       316             316                   316\n",
       "hammer curl               526             526                   526\n",
       "hip thrust                516             516                   516\n",
       "incline bench press       583             583                   583\n",
       "lat pulldown              585             585                   585\n",
       "lateral raises            840             840                   840\n",
       "leg extension             535             535                   535\n",
       "leg raises                494             494                   494\n",
       "plank                     992             992                   992\n",
       "pull up                   579             579                   579\n",
       "push up                   562             562                   562\n",
       "romanian deadlift         474             474                   474\n",
       "russian twist             513             513                   513\n",
       "shoulder press            501             501                   501\n",
       "squat                     732             732                   732\n",
       "t bar row                 653             653                   653\n",
       "tricep dips               671             671                   671\n",
       "tricep pushdown           597             597                   597"
      ]
     },
     "execution_count": 87,
     "metadata": {},
     "output_type": "execute_result"
    }
   ],
   "source": [
    "dt_by_pose"
   ]
  },
  {
   "cell_type": "code",
   "execution_count": 88,
   "metadata": {},
   "outputs": [],
   "source": [
    "dt_by_pose.reset_index(inplace=True)"
   ]
  },
  {
   "cell_type": "code",
   "execution_count": 89,
   "metadata": {},
   "outputs": [
    {
     "data": {
      "text/plain": [
       "0"
      ]
     },
     "execution_count": 89,
     "metadata": {},
     "output_type": "execute_result"
    }
   ],
   "source": [
    "idx = dt_by_pose.index[dt_by_pose['img_path']< 150].to_list()\n",
    "len(idx)"
   ]
  },
  {
   "cell_type": "code",
   "execution_count": 91,
   "metadata": {},
   "outputs": [],
   "source": [
    "poses = dt_by_pose['label'].to_list()"
   ]
  },
  {
   "cell_type": "code",
   "execution_count": 92,
   "metadata": {},
   "outputs": [],
   "source": [
    "remove_pose =  [poses[i] for i in idx]"
   ]
  },
  {
   "cell_type": "code",
   "execution_count": 93,
   "metadata": {},
   "outputs": [
    {
     "data": {
      "text/plain": [
       "[]"
      ]
     },
     "execution_count": 93,
     "metadata": {},
     "output_type": "execute_result"
    }
   ],
   "source": [
    "remove_pose"
   ]
  },
  {
   "cell_type": "code",
   "execution_count": 94,
   "metadata": {},
   "outputs": [],
   "source": [
    "for pose in remove_pose:\n",
    "    dt.drop(dt[dt['label'] == pose].index, inplace=True)"
   ]
  },
  {
   "cell_type": "code",
   "execution_count": 95,
   "metadata": {},
   "outputs": [],
   "source": [
    "coor = np.array(dt['pose_landmarks'].to_list())"
   ]
  },
  {
   "cell_type": "code",
   "execution_count": 96,
   "metadata": {},
   "outputs": [
    {
     "data": {
      "text/plain": [
       "array([ 6,  1, 10])"
      ]
     },
     "execution_count": 96,
     "metadata": {},
     "output_type": "execute_result"
    }
   ],
   "source": [
    "n = np.random.randint(0, 17, size=3)\n",
    "n"
   ]
  },
  {
   "cell_type": "code",
   "execution_count": 97,
   "metadata": {},
   "outputs": [
    {
     "data": {
      "text/plain": [
       "(12818, 18, 4)"
      ]
     },
     "execution_count": 97,
     "metadata": {},
     "output_type": "execute_result"
    }
   ],
   "source": [
    "coor.shape"
   ]
  },
  {
   "cell_type": "code",
   "execution_count": 98,
   "metadata": {},
   "outputs": [],
   "source": [
    "# vars = [0.2, 0.25, 0.3, 0.35]\n",
    "new_dt = dt.copy()\n",
    "new_coor = coor[:,:,:2].copy()\n",
    "n = np.random.randint(0, 17, size=2)\n",
    "new_coor[:,n,:2] = coor[:,n,:2]+0.05*np.random.randn(2)\n",
    "new_dt['pose_landmarks'] = new_coor.tolist()\n",
    "for i in range(5):\n",
    "    n = np.random.randint(0, 17, size=3)\n",
    "    new_coor[:,n,:2] = coor[:,n,:2]+0.05*np.random.randn(2)\n",
    "    dt_cp = dt.copy()\n",
    "    dt_cp['pose_landmarks'] = new_coor.tolist()\n",
    "    new_dt = pd.concat([new_dt, dt_cp])"
   ]
  },
  {
   "cell_type": "code",
   "execution_count": 99,
   "metadata": {},
   "outputs": [
    {
     "data": {
      "text/plain": [
       "(76908, 4)"
      ]
     },
     "execution_count": 99,
     "metadata": {},
     "output_type": "execute_result"
    }
   ],
   "source": [
    "new_dt.shape"
   ]
  },
  {
   "cell_type": "code",
   "execution_count": 100,
   "metadata": {},
   "outputs": [],
   "source": [
    "# new_dt['pose_landmarks'].to_numpy()[0].shape"
   ]
  },
  {
   "cell_type": "code",
   "execution_count": 101,
   "metadata": {},
   "outputs": [],
   "source": [
    "processed = new_dt.to_dict('records')"
   ]
  },
  {
   "cell_type": "code",
   "execution_count": null,
   "metadata": {},
   "outputs": [
    {
     "data": {
      "text/plain": [
       "18"
      ]
     },
     "execution_count": 77,
     "metadata": {},
     "output_type": "execute_result"
    }
   ],
   "source": [
    "len(processed[17700]['pose_landmarks'])"
   ]
  },
  {
   "cell_type": "code",
   "execution_count": 102,
   "metadata": {},
   "outputs": [],
   "source": [
    "with open('noised_workout.json', 'w') as f:\n",
    "    json.dump(processed, f)"
   ]
  },
  {
   "cell_type": "code",
   "execution_count": null,
   "metadata": {},
   "outputs": [],
   "source": []
  }
 ],
 "metadata": {
  "kernelspec": {
   "display_name": "Python 3",
   "language": "python",
   "name": "python3"
  },
  "language_info": {
   "codemirror_mode": {
    "name": "ipython",
    "version": 3
   },
   "file_extension": ".py",
   "mimetype": "text/x-python",
   "name": "python",
   "nbconvert_exporter": "python",
   "pygments_lexer": "ipython3",
   "version": "3.9.1"
  },
  "orig_nbformat": 4
 },
 "nbformat": 4,
 "nbformat_minor": 2
}
