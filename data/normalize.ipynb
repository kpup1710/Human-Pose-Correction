{
 "cells": [
  {
   "cell_type": "code",
   "execution_count": 2,
   "metadata": {},
   "outputs": [],
   "source": [
    "import torch\n",
    "import numpy as np\n",
    "import pandas as pd\n",
    "import json\n",
    "import os"
   ]
  },
  {
   "cell_type": "code",
   "execution_count": 3,
   "metadata": {},
   "outputs": [],
   "source": [
    "f = open('C:\\\\Users\\\\RedmiBook\\\\HUST\\\\Documents\\\\Studying\\\\Deep Learning\\\\project\\\\Human Pose Estimation\\\\code\\\\test\\Human-Pose-Correction\\dataset\\\\proccessed_workout.json')"
   ]
  },
  {
   "cell_type": "code",
   "execution_count": 4,
   "metadata": {},
   "outputs": [],
   "source": [
    "data = json.load(f)"
   ]
  },
  {
   "cell_type": "code",
   "execution_count": 13,
   "metadata": {},
   "outputs": [],
   "source": [
    "pose = torch.tensor(data[0]['pose_landmarks'])"
   ]
  },
  {
   "cell_type": "code",
   "execution_count": 14,
   "metadata": {},
   "outputs": [
    {
     "data": {
      "text/plain": [
       "tensor([[0.4774, 0.2484],\n",
       "        [0.5331, 0.4542],\n",
       "        [0.4552, 0.4596],\n",
       "        [0.4243, 0.7012],\n",
       "        [0.3212, 0.5740],\n",
       "        [0.6110, 0.4489],\n",
       "        [0.6342, 0.7341],\n",
       "        [0.5563, 0.6043],\n",
       "        [0.4674, 0.8921],\n",
       "        [0.4612, 1.1573],\n",
       "        [0.4474, 1.4579],\n",
       "        [0.5699, 0.8972],\n",
       "        [0.5868, 1.1984],\n",
       "        [0.5684, 1.4924],\n",
       "        [0.4750, 0.2173],\n",
       "        [0.4750, 0.2173],\n",
       "        [0.4814, 0.2285],\n",
       "        [0.5394, 0.2362]])"
      ]
     },
     "execution_count": 14,
     "metadata": {},
     "output_type": "execute_result"
    }
   ],
   "source": [
    "pose"
   ]
  },
  {
   "cell_type": "code",
   "execution_count": 17,
   "metadata": {},
   "outputs": [
    {
     "data": {
      "text/plain": [
       "tensor(0.8873)"
      ]
     },
     "execution_count": 17,
     "metadata": {},
     "output_type": "execute_result"
    }
   ],
   "source": [
    "torch.norm(pose[1]-pose[11]) + torch.norm(pose[1]- pose[8])"
   ]
  },
  {
   "cell_type": "code",
   "execution_count": null,
   "metadata": {},
   "outputs": [],
   "source": []
  }
 ],
 "metadata": {
  "kernelspec": {
   "display_name": "Python 3",
   "language": "python",
   "name": "python3"
  },
  "language_info": {
   "codemirror_mode": {
    "name": "ipython",
    "version": 3
   },
   "file_extension": ".py",
   "mimetype": "text/x-python",
   "name": "python",
   "nbconvert_exporter": "python",
   "pygments_lexer": "ipython3",
   "version": "3.9.1"
  },
  "orig_nbformat": 4
 },
 "nbformat": 4,
 "nbformat_minor": 2
}
